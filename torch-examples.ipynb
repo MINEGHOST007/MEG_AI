{
 "cells": [
  {
   "cell_type": "code",
   "execution_count": 1,
   "id": "710fd23c-4c02-41c2-be99-1806efdfc991",
   "metadata": {},
   "outputs": [
    {
     "name": "stdout",
     "output_type": "stream",
     "text": [
      "tensor([ 70,  95, -16,  84, -12,  80])\n"
     ]
    }
   ],
   "source": [
    "import torch\n",
    "randint = torch.randint(-100,100,(6,))\n",
    "print(randint)"
   ]
  },
  {
   "cell_type": "code",
   "execution_count": 2,
   "id": "fa5b37f4-e73b-43c6-83a8-6fc3fa02a6cf",
   "metadata": {},
   "outputs": [
    {
     "name": "stdout",
     "output_type": "stream",
     "text": [
      "tensor([[0.1000, 1.2000],\n",
      "        [0.1000, 1.2000],\n",
      "        [0.1000, 1.2000]])\n"
     ]
    }
   ],
   "source": [
    "tensor = torch.tensor([[0.1,1.2],[0.1,1.2],[0.1,1.2]])\n",
    "print(tensor)"
   ]
  },
  {
   "cell_type": "code",
   "execution_count": 3,
   "id": "00e4c9bb-03b8-4e71-82b6-4dd4c2c3afec",
   "metadata": {},
   "outputs": [
    {
     "name": "stdout",
     "output_type": "stream",
     "text": [
      "tensor([[0., 0., 0.],\n",
      "        [0., 0., 0.]])\n"
     ]
    }
   ],
   "source": [
    "zeros = torch.zeros(2,3)\n",
    "print(zeros)\n"
   ]
  },
  {
   "cell_type": "code",
   "execution_count": 4,
   "id": "04ce6515-2097-4163-90b1-18fbfec0688d",
   "metadata": {},
   "outputs": [
    {
     "name": "stdout",
     "output_type": "stream",
     "text": [
      "tensor([[1., 1., 1., 1.],\n",
      "        [1., 1., 1., 1.],\n",
      "        [1., 1., 1., 1.]])\n"
     ]
    }
   ],
   "source": [
    "ones = torch.ones(3,4)\n",
    "print(ones)\n"
   ]
  },
  {
   "cell_type": "code",
   "execution_count": 5,
   "id": "b1d6dedc-049f-43b4-97e9-a215621ce478",
   "metadata": {},
   "outputs": [
    {
     "data": {
      "text/plain": [
       "tensor([[0., 0., 0., 0.],\n",
       "        [0., 0., 0., 0.]])"
      ]
     },
     "execution_count": 5,
     "metadata": {},
     "output_type": "execute_result"
    }
   ],
   "source": [
    "input = torch.empty(2,4)\n",
    "input"
   ]
  },
  {
   "cell_type": "code",
   "execution_count": 6,
   "id": "5921ff79-edff-4da3-b6fb-7010d0a5b454",
   "metadata": {},
   "outputs": [
    {
     "data": {
      "text/plain": [
       "tensor([0, 1, 2, 3, 4])"
      ]
     },
     "execution_count": 6,
     "metadata": {},
     "output_type": "execute_result"
    }
   ],
   "source": [
    "arrange = torch.arange(5)\n",
    "arrange"
   ]
  },
  {
   "cell_type": "code",
   "execution_count": 7,
   "id": "064d2f09-f95c-4898-8367-e58bff67da20",
   "metadata": {},
   "outputs": [
    {
     "data": {
      "text/plain": [
       "tensor([ 3.0000,  4.7500,  6.5000,  8.2500, 10.0000])"
      ]
     },
     "execution_count": 7,
     "metadata": {},
     "output_type": "execute_result"
    }
   ],
   "source": [
    "linspace = torch.linspace(3,10,steps=5)\n",
    "linspace"
   ]
  },
  {
   "cell_type": "code",
   "execution_count": 12,
   "id": "14935ce7-e39f-47e3-afe4-40596e1f683b",
   "metadata": {},
   "outputs": [
    {
     "data": {
      "text/plain": [
       "tensor([1.0000e-10, 1.0000e-05, 1.0000e+00, 1.0000e+05, 1.0000e+10])"
      ]
     },
     "execution_count": 12,
     "metadata": {},
     "output_type": "execute_result"
    }
   ],
   "source": [
    "logspace = torch.logspace(start=-10,end=10, steps = 5)\n",
    "logspace"
   ]
  },
  {
   "cell_type": "code",
   "execution_count": 13,
   "id": "9e0eca9b-98f1-466f-b51a-38ae82ce2737",
   "metadata": {},
   "outputs": [
    {
     "data": {
      "text/plain": [
       "tensor([[1., 0., 0., 0., 0.],\n",
       "        [0., 1., 0., 0., 0.],\n",
       "        [0., 0., 1., 0., 0.],\n",
       "        [0., 0., 0., 1., 0.],\n",
       "        [0., 0., 0., 0., 1.]])"
      ]
     },
     "execution_count": 13,
     "metadata": {},
     "output_type": "execute_result"
    }
   ],
   "source": [
    "eye = torch.eye(5)\n",
    "eye"
   ]
  },
  {
   "cell_type": "code",
   "execution_count": 14,
   "id": "548e66a8-20cf-49d5-95b7-7951e15da7c7",
   "metadata": {},
   "outputs": [
    {
     "name": "stdout",
     "output_type": "stream",
     "text": [
      "tensor([[0, 0, 0],\n",
      "        [0, 0, 0]])\n"
     ]
    }
   ],
   "source": [
    "a = torch.empty((2,3),dtype = torch.int64)\n",
    "empty_like = torch.empty_like(a)\n",
    "\n",
    "print(empty_like)"
   ]
  },
  {
   "cell_type": "code",
   "execution_count": 15,
   "id": "d176ced7-ca22-426a-85b7-7272420d32f6",
   "metadata": {},
   "outputs": [
    {
     "name": "stdout",
     "output_type": "stream",
     "text": [
      "cuda\n"
     ]
    }
   ],
   "source": [
    "device = 'cuda' if torch.cuda.is_available() else 'cpu'\n",
    "print(device)"
   ]
  },
  {
   "cell_type": "code",
   "execution_count": 21,
   "id": "a0f98d22-3d2c-4ff7-9e90-e209e6f05d49",
   "metadata": {},
   "outputs": [
    {
     "name": "stdout",
     "output_type": "stream",
     "text": [
      "0.0000000000\n"
     ]
    }
   ],
   "source": [
    "import time\n",
    "start_time = time.time()\n",
    "zers = torch.zeros(1,1)\n",
    "end_time = time.time()\n",
    "\n",
    "elas = end_time- start_time\n",
    "print(f\"{elas:.10f}\")"
   ]
  },
  {
   "cell_type": "code",
   "execution_count": 24,
   "id": "2531bb60-0968-4a59-b5d6-374d0947c9d9",
   "metadata": {},
   "outputs": [
    {
     "name": "stdout",
     "output_type": "stream",
     "text": [
      "0.0543284416\n",
      "0.1737270355\n"
     ]
    }
   ],
   "source": [
    "import numpy as np\n",
    "\n",
    "torch_rand1 = torch.rand(10000,10000).to(device)\n",
    "torch_rand2 = torch.rand(10000,10000).to(device)\n",
    "np_rand1 = torch.rand(10000, 10000)\n",
    "np_rand2 = torch.rand(10000, 10000)\n",
    "start_time = time.time()\n",
    "rand = (torch_rand1 @ torch_rand2)\n",
    "end_time = time.time()\n",
    "\n",
    "elas = end_time- start_time\n",
    "print(f\"{elas:.10f}\")\n",
    "\n",
    "start_time = time.time()\n",
    "rand = np.multiply(np_rand1, np_rand2)\n",
    "end_time = time.time()\n",
    "\n",
    "elas = end_time - start_time\n",
    "print(f\"{elas:.10f}\")"
   ]
  },
  {
   "cell_type": "code",
   "execution_count": 32,
   "id": "fa8ddde6-3a05-4516-8aac-31ee2153c32c",
   "metadata": {},
   "outputs": [
    {
     "data": {
      "text/plain": [
       "tensor([0, 0, 0, 0, 0, 0, 0, 0, 0, 0])"
      ]
     },
     "execution_count": 32,
     "metadata": {},
     "output_type": "execute_result"
    }
   ],
   "source": [
    "probabilities = torch.tensor([0.99,0.01])\n",
    "samples = torch.multinomial(probabilities,num_samples= 10,replacement=True)\n",
    "samples"
   ]
  },
  {
   "cell_type": "code",
   "execution_count": null,
   "id": "0d58542a-3fe5-4c8b-a007-4cbcf280567d",
   "metadata": {},
   "outputs": [],
   "source": [
    "import torch.nn as nn\n",
    "#Linear\n",
    "import torch.nn.functional as F\n",
    "#softmax\n",
    "#embedded"
   ]
  }
 ],
 "metadata": {
  "kernelspec": {
   "display_name": "MEG-AI",
   "language": "python",
   "name": "ghost"
  },
  "language_info": {
   "codemirror_mode": {
    "name": "ipython",
    "version": 3
   },
   "file_extension": ".py",
   "mimetype": "text/x-python",
   "name": "python",
   "nbconvert_exporter": "python",
   "pygments_lexer": "ipython3",
   "version": "3.11.1"
  }
 },
 "nbformat": 4,
 "nbformat_minor": 5
}
