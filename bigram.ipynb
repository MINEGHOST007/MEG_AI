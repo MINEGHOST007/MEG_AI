{
 "cells": [
  {
   "cell_type": "code",
   "execution_count": 135,
   "metadata": {},
   "outputs": [
    {
     "name": "stdout",
     "output_type": "stream",
     "text": [
      "cuda\n"
     ]
    }
   ],
   "source": [
    "import torch\n",
    "import torch.nn as nn\n",
    "from torch.nn import functional as F\n",
    "device = 'cuda' if torch.cuda.is_available() else 'cpu'\n",
    "print(device)\n",
    "block_size = 8\n",
    "#batch size\n",
    "batch_size = 4\n",
    "max_iters = 10000\n",
    "learning_rate = 3e-4\n",
    "eval_iters = 250\n",
    "dropout = 0.2"
   ]
  },
  {
   "cell_type": "code",
   "execution_count": 136,
   "metadata": {},
   "outputs": [
    {
     "name": "stdout",
     "output_type": "stream",
     "text": [
      "['\\n', ' ', '!', '(', ')', '*', ',', '-', '.', '/', '0', '1', '2', '3', '4', '5', '6', '7', '8', '9', ':', ';', '>', '?', 'A', 'B', 'C', 'D', 'E', 'F', 'G', 'H', 'I', 'J', 'K', 'L', 'M', 'N', 'O', 'P', 'Q', 'R', 'S', 'T', 'U', 'V', 'W', 'X', 'Y', '\\\\', '^', 'a', 'b', 'c', 'd', 'e', 'f', 'g', 'h', 'i', 'j', 'k', 'l', 'm', 'n', 'o', 'p', 'q', 'r', 's', 't', 'u', 'v', 'w', 'x', 'y', 'z', '|', '}', '£', '«', '¬', '°', '—', '‘', '’', '“', '”']\n"
     ]
    }
   ],
   "source": [
    "with open('the_palace_of_illusions.txt','r',encoding='utf-8') as f:\n",
    "    text = f.read()\n",
    "chars = sorted(set(text))\n",
    "print(chars)\n",
    "vocabulary_size = len(chars)"
   ]
  },
  {
   "cell_type": "code",
   "execution_count": 137,
   "metadata": {},
   "outputs": [],
   "source": [
    "string_to_int = { ch:i for i,ch in enumerate(chars) }\n",
    "int_to_string = { i:ch for i,ch in enumerate(chars) }\n",
    "encode = lambda s: [string_to_int[c] for c in s]\n",
    "decode = lambda l: ''.join([int_to_string[i] for i in l])\n",
    "\n",
    "data = torch.tensor(encode(text), dtype=torch.long)\n"
   ]
  },
  {
   "cell_type": "code",
   "execution_count": 138,
   "metadata": {},
   "outputs": [
    {
     "name": "stdout",
     "output_type": "stream",
     "text": [
      "data is  tensor([43, 58, 68,  ...,  1,  0,  0])\n",
      "when input is  tensor([43])  target is  tensor(58)\n",
      "when input is  tensor([43, 58])  target is  tensor(68)\n",
      "when input is  tensor([43, 58, 68])  target is  tensor(65)\n",
      "when input is  tensor([43, 58, 68, 65])  target is  tensor(71)\n",
      "when input is  tensor([43, 58, 68, 65, 71])  target is  tensor(57)\n",
      "when input is  tensor([43, 58, 68, 65, 71, 57])  target is  tensor(58)\n",
      "when input is  tensor([43, 58, 68, 65, 71, 57, 58])  target is  tensor(1)\n",
      "when input is  tensor([43, 58, 68, 65, 71, 57, 58,  1])  target is  tensor(70)\n"
     ]
    }
   ],
   "source": [
    "#training and validating sets\n",
    "print(\"data is \", data) \n",
    "n = int(0.8*len(data))\n",
    "train_data = data[:n]\n",
    "val_data = data[n:]\n",
    "\n",
    "def get_batch(split):\n",
    "    data = train_data if split == 'train' else val_data\n",
    "    ix = torch.randint(len(data)-block_size,(batch_size,))\n",
    "    x = torch.stack([data[i:i+block_size] for i in ix])\n",
    "    y = torch.stack([data[i+1:i+block_size+1] for i in ix])\n",
    "    x,y = x.to(device), y.to(device)\n",
    "    return x,y\n",
    "\n",
    "x = train_data[:block_size]\n",
    "y = train_data[1:block_size+1]\n",
    "\n",
    "for t in range(block_size):\n",
    "    context = x[:t+1]\n",
    "    target = y[t]\n",
    "    print(\"when input is \",context,' target is ', target)\n"
   ]
  },
  {
   "cell_type": "code",
   "execution_count": 139,
   "metadata": {},
   "outputs": [
    {
     "name": "stdout",
     "output_type": "stream",
     "text": [
      "inputs: \n",
      "tensor([[55, 70, 70, 55, 68,  1, 70, 58],\n",
      "        [ 0, 86, 32, 69,  1, 59, 70,  1],\n",
      "        [70, 71, 51, 70, 55, 54,  1, 51],\n",
      "        [60, 55, 53, 70, 69,  8,  1, 46]], device='cuda:0')\n",
      "targets: \n",
      "tensor([[70, 70, 55, 68,  1, 70, 58, 51],\n",
      "        [86, 32, 69,  1, 59, 70,  1, 56],\n",
      "        [71, 51, 70, 55, 54,  1, 51, 70],\n",
      "        [55, 53, 70, 69,  8,  1, 46, 58]], device='cuda:0')\n"
     ]
    }
   ],
   "source": [
    "x, y = get_batch('train')\n",
    "print('inputs: ')\n",
    "print(x)\n",
    "print('targets: ')\n",
    "print(y)\n",
    "\n",
    "@torch.no_grad()\n",
    "def estimate_loss():\n",
    "    out = {}\n",
    "    model.eval()\n",
    "    for split in ['train', 'val']:\n",
    "        losses = torch.zeros(eval_iters)\n",
    "        for k in range(eval_iters):\n",
    "            X, Y = get_batch(split)\n",
    "            logits, loss = model(X, Y)\n",
    "            losses[k] = loss.item()\n",
    "        out[split] = losses.mean()\n",
    "    model.train()\n",
    "    return out"
   ]
  },
  {
   "cell_type": "code",
   "execution_count": 140,
   "metadata": {
    "scrolled": true
   },
   "outputs": [
    {
     "name": "stdout",
     "output_type": "stream",
     "text": [
      "\n",
      ")1”f£Q S\\«Pj“aGN0£c?Y^?3-C“QYa\n",
      "£UIp^m nM¬ Q0MnV!DTH¬QncSu1s°LM1—4Gav7B¬Q\n",
      "N4sF\n",
      "P—DE\n",
      "70Y qU’k:34gV—°°v35\n",
      "S.MV4YXQnVl«0)4°/T9jPm1tR;IM1nT:^me*M”t\\Ab}LWA4’UIy\\1U!0Tw99wtHc*RGaywHCPs-.Wd—m 8|^.g>;s5\\Vh3£H/” jNH3b28ON692 .;qa\n",
      "2«ypz4NbH—hxQ8SIeS’TUVaT2kD\\w2u;C.bHD B:I.”KOz}>0’mY:ja-9A4“0|xSSat>biw?k;8Bf,^E0“*iX‘qsO4“ Kg^)A}-8cgX£n.!rkva?Xi.fOy|\\F*“GaM>0tpU|f,g^vu17?;«*Un4“¬6/acfNbdN?Ie^AdNe\\!rr£:,CSL«7‘tx«’.;mT>JWx2?LamaR)kDh«5 M>°em |8O2 E:1V3R”«—k«T8qayM)f(XDe\\DwbRa\n",
      "n R?5J0DgR;\\^!jDj,’|x|‘\n",
      "sF3;x\\Ot«W\n"
     ]
    }
   ],
   "source": [
    "class BigramLanguageModel(nn.Module):\n",
    "     def __init__(self,vocabulary_size):\n",
    "         super().__init__()\n",
    "         self.token_embedding_table = nn.Embedding(vocabulary_size,vocabulary_size)\n",
    "         #learnable model with Embedding table = v * v table\n",
    "     def forward(self,index,targets=None):\n",
    "         logits = self.token_embedding_table(index)\n",
    "         if targets is None:\n",
    "             loss = None\n",
    "         else:\n",
    "             B, T, C = logits.shape\n",
    "             # batch, time, channel\n",
    "             logits = logits.view(B*T, C)\n",
    "             targets = targets.view(B*T)\n",
    "             loss = F.cross_entropy(logits, targets)\n",
    "             # it needs as B by C by T but we have B by T by C so reshape using view\n",
    "         return logits, loss\n",
    "     def generate(self, index, max_new_tokens):\n",
    "         for _ in range (max_new_tokens):\n",
    "             logits, loss = self.forward(index)\n",
    "             logits = logits[:,-1,:]\n",
    "             probs = F.softmax(logits,dim=-1)\n",
    "             index_next = torch.multinomial(probs, num_samples = 1)\n",
    "             index = torch.cat((index, index_next), dim=-1)\n",
    "         return index\n",
    "\n",
    "model = BigramLanguageModel(vocabulary_size)\n",
    "m = model.to(device)\n",
    "\n",
    "context = torch.zeros((1,1), dtype = torch.long, device=device)\n",
    "generated_chars = decode(m.generate(context,max_new_tokens=500)[0].tolist())\n",
    "print(generated_chars)\n",
    "\n",
    "\n",
    "\n",
    "     "
   ]
  },
  {
   "cell_type": "code",
   "execution_count": 153,
   "metadata": {},
   "outputs": [
    {
     "name": "stdout",
     "output_type": "stream",
     "text": [
      "step: 0, train loss: 2.4247, val loss : 2.4289\n",
      "step: 250, train loss: 2.4388, val loss : 2.4314\n",
      "step: 500, train loss: 2.4435, val loss : 2.4172\n",
      "step: 750, train loss: 2.4148, val loss : 2.4382\n",
      "step: 1000, train loss: 2.4302, val loss : 2.4222\n",
      "step: 1250, train loss: 2.4165, val loss : 2.4337\n",
      "step: 1500, train loss: 2.4458, val loss : 2.4223\n",
      "step: 1750, train loss: 2.4512, val loss : 2.4394\n",
      "step: 2000, train loss: 2.4201, val loss : 2.4403\n",
      "step: 2250, train loss: 2.4289, val loss : 2.4167\n",
      "step: 2500, train loss: 2.4347, val loss : 2.4183\n",
      "step: 2750, train loss: 2.4216, val loss : 2.4360\n",
      "step: 3000, train loss: 2.4201, val loss : 2.4382\n",
      "step: 3250, train loss: 2.4294, val loss : 2.4348\n",
      "step: 3500, train loss: 2.4275, val loss : 2.4494\n",
      "step: 3750, train loss: 2.4196, val loss : 2.4355\n",
      "step: 4000, train loss: 2.4495, val loss : 2.4308\n",
      "step: 4250, train loss: 2.4491, val loss : 2.4401\n",
      "step: 4500, train loss: 2.4353, val loss : 2.4104\n",
      "step: 4750, train loss: 2.4167, val loss : 2.4351\n",
      "step: 5000, train loss: 2.4584, val loss : 2.4347\n",
      "step: 5250, train loss: 2.4333, val loss : 2.4431\n",
      "step: 5500, train loss: 2.4265, val loss : 2.4331\n",
      "step: 5750, train loss: 2.4384, val loss : 2.4328\n",
      "step: 6000, train loss: 2.4212, val loss : 2.4348\n",
      "step: 6250, train loss: 2.4432, val loss : 2.4602\n",
      "step: 6500, train loss: 2.4352, val loss : 2.4277\n",
      "step: 6750, train loss: 2.4206, val loss : 2.4252\n",
      "step: 7000, train loss: 2.4492, val loss : 2.4146\n",
      "step: 7250, train loss: 2.4021, val loss : 2.4154\n",
      "step: 7500, train loss: 2.4354, val loss : 2.4196\n",
      "step: 7750, train loss: 2.4146, val loss : 2.4178\n",
      "step: 8000, train loss: 2.4312, val loss : 2.4232\n",
      "step: 8250, train loss: 2.4282, val loss : 2.4349\n",
      "step: 8500, train loss: 2.4235, val loss : 2.4039\n",
      "step: 8750, train loss: 2.4120, val loss : 2.4119\n",
      "step: 9000, train loss: 2.4155, val loss : 2.4059\n",
      "step: 9250, train loss: 2.4462, val loss : 2.4255\n",
      "step: 9500, train loss: 2.4078, val loss : 2.4372\n",
      "step: 9750, train loss: 2.4419, val loss : 2.4132\n",
      "2.545983076095581\n"
     ]
    }
   ],
   "source": [
    "optimiser = torch.optim.AdamW(model.parameters(), lr= learning_rate)\n",
    "for iter in range(max_iters):\n",
    "    if iter % eval_iters == 0:\n",
    "        losses = estimate_loss()\n",
    "        print(f\"step: {iter}, train loss: {losses['train']:.4f}, val loss : {losses['val']:.4f}\")\n",
    "    xb, yb = get_batch('train')\n",
    "    logits, loss = model.forward(xb,yb)\n",
    "    optimiser.zero_grad(set_to_none=True)\n",
    "    loss.backward()\n",
    "    optimiser.step()\n",
    "print(loss.item())"
   ]
  },
  {
   "cell_type": "code",
   "execution_count": 151,
   "metadata": {},
   "outputs": [
    {
     "name": "stdout",
     "output_type": "stream",
     "text": [
      "\n",
      "“I nunee fonge tishid, blever t ashas wime \n",
      "\n",
      "\n",
      "wabewadutkithed of f Y;he pe t e hioct a, okegtoulavabunde Stieid enerasagra \n",
      "B9\\Mcia the me I \n",
      "Pe imors \n",
      "monsthingueen. myan, o bly H2Thinenersallk fed henes \n",
      "uto ree lisschiths I t rdeincabe by Y theandeld yo \n",
      "wa. gaser \n",
      "timony thathe t whish yo \n",
      "ulsoncould ingouith oinedrsithfred, te mer ld buthe. \n",
      "brthar? m thint outlere tho \n",
      "\n",
      "He cedind h gamed \n",
      "bustetisire Has. oulld s tomeero iepuan \n",
      "\n",
      "hiehraindead Pa w Thid toly athes yond W*ubasus kethes ke cr\n"
     ]
    }
   ],
   "source": [
    "context = torch.zeros((1,1), dtype = torch.long, device=device)\n",
    "generated_chars = decode(m.generate(context,max_new_tokens=500)[0].tolist())\n",
    "print(generated_chars)"
   ]
  },
  {
   "cell_type": "code",
   "execution_count": null,
   "metadata": {},
   "outputs": [],
   "source": []
  },
  {
   "cell_type": "code",
   "execution_count": null,
   "metadata": {},
   "outputs": [],
   "source": []
  },
  {
   "cell_type": "code",
   "execution_count": null,
   "metadata": {},
   "outputs": [],
   "source": []
  }
 ],
 "metadata": {
  "kernelspec": {
   "display_name": "MEG-AI",
   "language": "python",
   "name": "ghost"
  },
  "language_info": {
   "codemirror_mode": {
    "name": "ipython",
    "version": 3
   },
   "file_extension": ".py",
   "mimetype": "text/x-python",
   "name": "python",
   "nbconvert_exporter": "python",
   "pygments_lexer": "ipython3",
   "version": "3.11.1"
  }
 },
 "nbformat": 4,
 "nbformat_minor": 4
}
